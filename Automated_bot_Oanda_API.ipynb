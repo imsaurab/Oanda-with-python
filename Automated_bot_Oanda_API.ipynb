{
  "nbformat": 4,
  "nbformat_minor": 0,
  "metadata": {
    "colab": {
      "name": "Automated bot Oanda API.ipynb",
      "provenance": [],
      "collapsed_sections": [],
      "toc_visible": true,
      "authorship_tag": "ABX9TyPwVJa8P7HJ3Ux41emEOX6y",
      "include_colab_link": true
    },
    "kernelspec": {
      "name": "python3",
      "display_name": "Python 3"
    }
  },
  "cells": [
    {
      "cell_type": "markdown",
      "metadata": {
        "id": "view-in-github",
        "colab_type": "text"
      },
      "source": [
        "<a href=\"https://colab.research.google.com/github/imsaurab/Oanda-with-python/blob/main/Automated_bot_Oanda_API.ipynb\" target=\"_parent\"><img src=\"https://colab.research.google.com/assets/colab-badge.svg\" alt=\"Open In Colab\"/></a>"
      ]
    },
    {
      "cell_type": "code",
      "metadata": {
        "id": "tIrgeSUBvBM2"
      },
      "source": [
        "API = \"api-fxpractice.oanda.com\"\r\n",
        "STREAM_API = \"stream-fxpractice.oanda.com\""
      ],
      "execution_count": null,
      "outputs": []
    },
    {
      "cell_type": "code",
      "metadata": {
        "id": "8Et97KupxAy1"
      },
      "source": [
        "ACCESS_TOKEN =\"d3bc3d87ed3dae4c722e6205ac5aeea6-fe7755fc3e146ad278186b9130ee5e4d\"\r\n",
        "\r\n",
        "\r\n",
        "ACCOUNT_ID =None"
      ],
      "execution_count": null,
      "outputs": []
    },
    {
      "cell_type": "markdown",
      "metadata": {
        "id": "wXP07XQ6SUKe"
      },
      "source": [
        "# Accessing API"
      ]
    },
    {
      "cell_type": "code",
      "metadata": {
        "id": "kaDyLDTfxez8"
      },
      "source": [
        "import requests\r\n",
        "import json\r\n",
        "import numpy as np\r\n",
        "import pandas as pd"
      ],
      "execution_count": null,
      "outputs": []
    },
    {
      "cell_type": "code",
      "metadata": {
        "id": "SbHY5enFxpUo"
      },
      "source": [
        "PRICING_PATH = f\"/v3/accounts/101-001-17640366-001/pricing\""
      ],
      "execution_count": null,
      "outputs": []
    },
    {
      "cell_type": "code",
      "metadata": {
        "id": "wYEMw1zRyD7P"
      },
      "source": [
        "query = {\"instruments\": \"USD_CAD\"} \r\n",
        "headers = {\"Authorization\": \"Bearer \"+ \"d3bc3d87ed3dae4c722e6205ac5aeea6-fe7755fc3e146ad278186b9130ee5e4d\"\r\n",
        "}"
      ],
      "execution_count": null,
      "outputs": []
    },
    {
      "cell_type": "code",
      "metadata": {
        "id": "5K1xPsoByPRX"
      },
      "source": [
        "response = requests.get(\"https://\"+ \"api-fxpractice.oanda.com\"+PRICING_PATH, headers=headers, params=query)"
      ],
      "execution_count": null,
      "outputs": []
    },
    {
      "cell_type": "code",
      "metadata": {
        "id": "BUOy3BCLyT_x",
        "colab": {
          "base_uri": "https://localhost:8080/"
        },
        "outputId": "21cf483a-b24e-4c6f-c3ec-1593d711d3ee"
      },
      "source": [
        "response.json()"
      ],
      "execution_count": null,
      "outputs": [
        {
          "output_type": "execute_result",
          "data": {
            "text/plain": [
              "{'errorMessage': \"Invalid value specified for 'from'. Time is in the future\"}"
            ]
          },
          "metadata": {
            "tags": []
          },
          "execution_count": 78
        }
      ]
    },
    {
      "cell_type": "code",
      "metadata": {
        "id": "Mha7DKT3-4zJ"
      },
      "source": [
        "def get_ask_price(instrument):\n",
        "    \"\"\"\n",
        "    Returns a (time, ask price) tuple.\n",
        "    \"\"\"\n",
        "    query = {\"instruments\": instrument} \n",
        "    response = requests.get(\"https://\"+\"api-fxpractice.oanda.com\"+PRICING_PATH, headers=headers, params=query)\n",
        "    json_response = response.json()\n",
        "\n",
        "    prices = json_response[\"prices\"][0][\"asks\"][0][\"price\"]\n",
        "    prices = float(prices)\n",
        "\n",
        "    time_str = json_response[\"time\"]\n",
        "    time = pd.to_datetime(time_str)\n",
        "\n",
        "    return time, prices"
      ],
      "execution_count": null,
      "outputs": []
    },
    {
      "cell_type": "code",
      "metadata": {
        "colab": {
          "base_uri": "https://localhost:8080/"
        },
        "id": "hGbzwVR3OPlL",
        "outputId": "6c207229-e5d7-4279-c7a1-18ffbddf129e"
      },
      "source": [
        "get_ask_price(\"USD_CAD\")"
      ],
      "execution_count": null,
      "outputs": [
        {
          "output_type": "execute_result",
          "data": {
            "text/plain": [
              "(Timestamp('2021-01-13 16:31:54.181849034+0000', tz='UTC'), 1.27224)"
            ]
          },
          "metadata": {
            "tags": []
          },
          "execution_count": 41
        }
      ]
    },
    {
      "cell_type": "code",
      "metadata": {
        "colab": {
          "base_uri": "https://localhost:8080/"
        },
        "id": "SUVivh5tOQyB",
        "outputId": "98a64f40-6507-42d6-ca1c-48516688d53c"
      },
      "source": [
        "get_ask_price(\"EUR_USD\")"
      ],
      "execution_count": null,
      "outputs": [
        {
          "output_type": "execute_result",
          "data": {
            "text/plain": [
              "(Timestamp('2021-01-13 16:32:00.261717738+0000', tz='UTC'), 1.21587)"
            ]
          },
          "metadata": {
            "tags": []
          },
          "execution_count": 42
        }
      ]
    },
    {
      "cell_type": "markdown",
      "metadata": {
        "id": "1g8KpfNoOVSn"
      },
      "source": [
        "# "
      ]
    },
    {
      "cell_type": "code",
      "metadata": {
        "id": "4tJpzI68OV6E",
        "colab": {
          "base_uri": "https://localhost:8080/"
        },
        "outputId": "60156efc-31ea-40a5-9946-7d42765630d4"
      },
      "source": [
        "pip install v20"
      ],
      "execution_count": null,
      "outputs": [
        {
          "output_type": "stream",
          "text": [
            "Collecting v20\n",
            "\u001b[?25l  Downloading https://files.pythonhosted.org/packages/98/0a/3d5ad8b8d294a50e80dc8e0241b61e464ef18f90b31e648482425459f2ac/v20-3.0.25.0.tar.gz (75kB)\n",
            "\r\u001b[K     |████▍                           | 10kB 17.4MB/s eta 0:00:01\r\u001b[K     |████████▊                       | 20kB 19.8MB/s eta 0:00:01\r\u001b[K     |█████████████                   | 30kB 12.4MB/s eta 0:00:01\r\u001b[K     |█████████████████▌              | 40kB 9.4MB/s eta 0:00:01\r\u001b[K     |█████████████████████▉          | 51kB 7.5MB/s eta 0:00:01\r\u001b[K     |██████████████████████████▏     | 61kB 8.2MB/s eta 0:00:01\r\u001b[K     |██████████████████████████████▌ | 71kB 7.8MB/s eta 0:00:01\r\u001b[K     |████████████████████████████████| 81kB 3.2MB/s \n",
            "\u001b[?25hRequirement already satisfied: requests in /usr/local/lib/python3.6/dist-packages (from v20) (2.23.0)\n",
            "Collecting ujson\n",
            "\u001b[?25l  Downloading https://files.pythonhosted.org/packages/f1/84/e039c6ffc6603f2dfe966972d345d4f650a4ffd74b18c852ece645de12ac/ujson-4.0.1-cp36-cp36m-manylinux1_x86_64.whl (179kB)\n",
            "\u001b[K     |████████████████████████████████| 184kB 7.1MB/s \n",
            "\u001b[?25hRequirement already satisfied: chardet<4,>=3.0.2 in /usr/local/lib/python3.6/dist-packages (from requests->v20) (3.0.4)\n",
            "Requirement already satisfied: idna<3,>=2.5 in /usr/local/lib/python3.6/dist-packages (from requests->v20) (2.10)\n",
            "Requirement already satisfied: urllib3!=1.25.0,!=1.25.1,<1.26,>=1.21.1 in /usr/local/lib/python3.6/dist-packages (from requests->v20) (1.24.3)\n",
            "Requirement already satisfied: certifi>=2017.4.17 in /usr/local/lib/python3.6/dist-packages (from requests->v20) (2020.12.5)\n",
            "Building wheels for collected packages: v20\n",
            "  Building wheel for v20 (setup.py) ... \u001b[?25l\u001b[?25hdone\n",
            "  Created wheel for v20: filename=v20-3.0.25.0-cp36-none-any.whl size=85761 sha256=2dd3cd20fee18544d2d2f17528e89197b3f4693f76179468b6cd82ac5b616ec3\n",
            "  Stored in directory: /root/.cache/pip/wheels/2e/e6/cf/5d1e2fc46636f8ac745eda7bc5a859ae0c5072e07ce0023e0f\n",
            "Successfully built v20\n",
            "Installing collected packages: ujson, v20\n",
            "Successfully installed ujson-4.0.1 v20-3.0.25.0\n"
          ],
          "name": "stdout"
        }
      ]
    },
    {
      "cell_type": "markdown",
      "metadata": {
        "id": "nD3JS3MKSHJn"
      },
      "source": [
        "# Using  v20"
      ]
    },
    {
      "cell_type": "markdown",
      "metadata": {
        "id": "eTxE9uDmcmgR"
      },
      "source": [
        "https://github.com/oanda/v20-python"
      ]
    },
    {
      "cell_type": "code",
      "metadata": {
        "id": "KsEVdPRtOcG6"
      },
      "source": [
        "import v20"
      ],
      "execution_count": null,
      "outputs": []
    },
    {
      "cell_type": "code",
      "metadata": {
        "id": "j9FdgMJeOe90"
      },
      "source": [
        "api = v20.Context(hostname= \"api-fxpractice.oanda.com\", token=\"d3bc3d87ed3dae4c722e6205ac5aeea6-fe7755fc3e146ad278186b9130ee5e4d\", port=443)\r\n",
        "stream_api = v20.Context(hostname=\"stream-fxpractice.oanda.com\", token=\"d3bc3d87ed3dae4c722e6205ac5aeea6-fe7755fc3e146ad278186b9130ee5e4d\", port=443)"
      ],
      "execution_count": null,
      "outputs": []
    },
    {
      "cell_type": "code",
      "metadata": {
        "id": "4-1VlOvfOknD"
      },
      "source": [
        "response = api.pricing.get(accountID=\"101-001-17640366-001\", instruments=\"USD_CAD,EUR_CAD\")"
      ],
      "execution_count": null,
      "outputs": []
    },
    {
      "cell_type": "code",
      "metadata": {
        "colab": {
          "base_uri": "https://localhost:8080/"
        },
        "id": "zAFmRpLXOqFc",
        "outputId": "f1d93e47-437d-4d1d-d030-6aaff19c6829"
      },
      "source": [
        "json.loads(response.body[\"prices\"][0].json())"
      ],
      "execution_count": null,
      "outputs": [
        {
          "output_type": "execute_result",
          "data": {
            "text/plain": [
              "{'asks': [{'liquidity': 10000000, 'price': 1.27214}],\n",
              " 'bids': [{'liquidity': 10000000, 'price': 1.27195}],\n",
              " 'closeoutAsk': 1.27214,\n",
              " 'closeoutBid': 1.27195,\n",
              " 'instrument': 'USD_CAD',\n",
              " 'quoteHomeConversionFactors': {'negativeUnits': '0.78619443',\n",
              "  'positiveUnits': '0.786077'},\n",
              " 'status': 'tradeable',\n",
              " 'time': '2021-01-13T15:51:05.595249262Z',\n",
              " 'tradeable': True,\n",
              " 'type': 'PRICE',\n",
              " 'unitsAvailable': {'default': {'long': '4999998.0', 'short': '4999998.0'},\n",
              "  'openOnly': {'long': '4999998.0', 'short': '4999998.0'},\n",
              "  'reduceFirst': {'long': '4999998.0', 'short': '4999998.0'},\n",
              "  'reduceOnly': {'long': '0.0', 'short': '0.0'}}}"
            ]
          },
          "metadata": {
            "tags": []
          },
          "execution_count": 30
        }
      ]
    },
    {
      "cell_type": "markdown",
      "metadata": {
        "id": "69EpgRZKO0QI"
      },
      "source": [
        "# Streaming"
      ]
    },
    {
      "cell_type": "code",
      "metadata": {
        "id": "CGA0xbpGO1hi"
      },
      "source": [
        "import time "
      ],
      "execution_count": null,
      "outputs": []
    },
    {
      "cell_type": "code",
      "metadata": {
        "colab": {
          "base_uri": "https://localhost:8080/"
        },
        "id": "wUE_YqsgO8mF",
        "outputId": "a540e117-911f-4e11-a518-1ef2df3554b3"
      },
      "source": [
        "from_time = time.mktime(pd.to_datetime(\"12/01/2021\").timetuple())\r\n",
        "to_time = time.mktime(pd.to_datetime(\"14/01/2021\").timetuple())\r\n",
        "print(f\"Window start: {from_time}, window end: {to_time}.\" )"
      ],
      "execution_count": null,
      "outputs": [
        {
          "output_type": "stream",
          "text": [
            "Window start: 1638316800.0, window end: 1610582400.0.\n"
          ],
          "name": "stdout"
        }
      ]
    },
    {
      "cell_type": "code",
      "metadata": {
        "id": "clE9BPkLPJsL"
      },
      "source": [
        "header = {\"Authorization\": \"Bearer \"+\"d3bc3d87ed3dae4c722e6205ac5aeea6-fe7755fc3e146ad278186b9130ee5e4d\"} \r\n",
        "query = {\"from\": str(from_time), \"to\": str(to_time), \"granularity\": \"D\"}"
      ],
      "execution_count": null,
      "outputs": []
    },
    {
      "cell_type": "code",
      "metadata": {
        "id": "m_9GGN5lPOAE"
      },
      "source": [
        "INSTRUMENT = \"EUR_USD\""
      ],
      "execution_count": null,
      "outputs": []
    },
    {
      "cell_type": "code",
      "metadata": {
        "id": "Ia3NMmefPUV0"
      },
      "source": [
        "CANDLES_PATH = f\"/v3/accounts/101-001-17640366-001/instruments/EUR_USD/candles\""
      ],
      "execution_count": null,
      "outputs": []
    },
    {
      "cell_type": "code",
      "metadata": {
        "id": "6rQqkCibPU6t"
      },
      "source": [
        "response = requests.get(\"https://\"+ \"api-fxpractice.oanda.com\"+CANDLES_PATH, headers=header, params=query)"
      ],
      "execution_count": null,
      "outputs": []
    },
    {
      "cell_type": "code",
      "metadata": {
        "id": "rl8adAtdPef9"
      },
      "source": [
        "def json_to_pandas(json):\r\n",
        "    json_file = json.json()\r\n",
        "    price_json = json_file[\"candle\"]\r\n",
        "    times = []\r\n",
        "    close_price, high_price, low_price, open_price = [], [], [], []\r\n",
        "\r\n",
        "    for candles in price_json:\r\n",
        "        times.append(candle[\"time\"])\r\n",
        "        close_price.append(float(candle[\"mid\"][\"c\"]))\r\n",
        "        high_price.append(float(candle[\"mid\"][\"h\"]))\r\n",
        "        low_price.append(float(candle[\"mid\"][\"l\"]))\r\n",
        "        open_price.append(float(candle[\"mid\"][\"o\"]))\r\n",
        "    \r\n",
        "    dataframe = pd.DataFrame({\"close\": close_price, \"high\": high_price, \"low\": low_price, \"open\": open_price})\r\n",
        "    dataframe.index = pd.to_datetime(times)\r\n",
        "    return dataframe"
      ],
      "execution_count": null,
      "outputs": []
    },
    {
      "cell_type": "code",
      "metadata": {
        "id": "1QVoZvVJPexQ"
      },
      "source": [
        "EURCAD_df = json_to_pandas(response)"
      ],
      "execution_count": null,
      "outputs": []
    },
    {
      "cell_type": "code",
      "metadata": {
        "id": "C5FrK_18QYXE"
      },
      "source": [
        "EURCAD_df.head(5)"
      ],
      "execution_count": null,
      "outputs": []
    },
    {
      "cell_type": "code",
      "metadata": {
        "id": "4jHSB5eEQeMe"
      },
      "source": [
        "EURCAD_df[\"close\"].plot()"
      ],
      "execution_count": null,
      "outputs": []
    },
    {
      "cell_type": "code",
      "metadata": {
        "id": "n5oaXu6xQxvu",
        "colab": {
          "base_uri": "https://localhost:8080/",
          "height": 35
        },
        "outputId": "aa428bdd-c324-421a-9cb6-2502e0542074"
      },
      "source": [
        "stream_api"
      ],
      "execution_count": null,
      "outputs": [
        {
          "output_type": "execute_result",
          "data": {
            "application/vnd.google.colaboratory.intrinsic+json": {
              "type": "string"
            },
            "text/plain": [
              "'stream-fxpractice.oanda.com'"
            ]
          },
          "metadata": {
            "tags": []
          },
          "execution_count": 42
        }
      ]
    },
    {
      "cell_type": "code",
      "metadata": {
        "id": "Udr01MZEQ3mY"
      },
      "source": [
        "response = stream_api.pricing.stream(accountID=\"101-001-17640366-001\", instruments=\"EUR_USD\", snapshot=True)"
      ],
      "execution_count": null,
      "outputs": []
    },
    {
      "cell_type": "code",
      "metadata": {
        "colab": {
          "base_uri": "https://localhost:8080/",
          "height": 1000
        },
        "id": "MTieJZHmQ7t9",
        "outputId": "09ba7c48-36f4-40af-ce63-79660e902537"
      },
      "source": [
        "for price_data in response.lines:\r\n",
        "    print(price_data)"
      ],
      "execution_count": null,
      "outputs": [
        {
          "output_type": "stream",
          "text": [
            "b'{\"type\":\"PRICE\",\"time\":\"2021-01-14T11:56:50.552091471Z\",\"bids\":[{\"price\":\"1.21505\",\"liquidity\":10000000}],\"asks\":[{\"price\":\"1.21519\",\"liquidity\":10000000}],\"closeoutBid\":\"1.21505\",\"closeoutAsk\":\"1.21519\",\"status\":\"tradeable\",\"tradeable\":true,\"instrument\":\"EUR_USD\"}'\n",
            "b'{\"type\":\"PRICE\",\"time\":\"2021-01-14T11:56:54.815362789Z\",\"bids\":[{\"price\":\"1.21506\",\"liquidity\":10000000}],\"asks\":[{\"price\":\"1.21520\",\"liquidity\":10000000}],\"closeoutBid\":\"1.21506\",\"closeoutAsk\":\"1.21520\",\"status\":\"tradeable\",\"tradeable\":true,\"instrument\":\"EUR_USD\"}'\n",
            "b'{\"type\":\"PRICE\",\"time\":\"2021-01-14T11:56:56.086192242Z\",\"bids\":[{\"price\":\"1.21504\",\"liquidity\":10000000}],\"asks\":[{\"price\":\"1.21519\",\"liquidity\":10000000}],\"closeoutBid\":\"1.21504\",\"closeoutAsk\":\"1.21519\",\"status\":\"tradeable\",\"tradeable\":true,\"instrument\":\"EUR_USD\"}'\n",
            "b'{\"type\":\"HEARTBEAT\",\"time\":\"2021-01-14T11:56:58.655135286Z\"}'\n",
            "b'{\"type\":\"PRICE\",\"time\":\"2021-01-14T11:56:59.807483301Z\",\"bids\":[{\"price\":\"1.21506\",\"liquidity\":10000000}],\"asks\":[{\"price\":\"1.21519\",\"liquidity\":10000000}],\"closeoutBid\":\"1.21506\",\"closeoutAsk\":\"1.21519\",\"status\":\"tradeable\",\"tradeable\":true,\"instrument\":\"EUR_USD\"}'\n",
            "b'{\"type\":\"HEARTBEAT\",\"time\":\"2021-01-14T11:57:03.655657910Z\"}'\n",
            "b'{\"type\":\"PRICE\",\"time\":\"2021-01-14T11:57:04.813459688Z\",\"bids\":[{\"price\":\"1.21509\",\"liquidity\":10000000}],\"asks\":[{\"price\":\"1.21522\",\"liquidity\":10000000}],\"closeoutBid\":\"1.21509\",\"closeoutAsk\":\"1.21522\",\"status\":\"tradeable\",\"tradeable\":true,\"instrument\":\"EUR_USD\"}'\n",
            "b'{\"type\":\"HEARTBEAT\",\"time\":\"2021-01-14T11:57:08.656449881Z\"}'\n",
            "b'{\"type\":\"PRICE\",\"time\":\"2021-01-14T11:57:09.767710901Z\",\"bids\":[{\"price\":\"1.21512\",\"liquidity\":10000000}],\"asks\":[{\"price\":\"1.21525\",\"liquidity\":10000000}],\"closeoutBid\":\"1.21512\",\"closeoutAsk\":\"1.21525\",\"status\":\"tradeable\",\"tradeable\":true,\"instrument\":\"EUR_USD\"}'\n",
            "b'{\"type\":\"PRICE\",\"time\":\"2021-01-14T11:57:11.811523898Z\",\"bids\":[{\"price\":\"1.21511\",\"liquidity\":10000000}],\"asks\":[{\"price\":\"1.21524\",\"liquidity\":10000000}],\"closeoutBid\":\"1.21511\",\"closeoutAsk\":\"1.21524\",\"status\":\"tradeable\",\"tradeable\":true,\"instrument\":\"EUR_USD\"}'\n",
            "b'{\"type\":\"PRICE\",\"time\":\"2021-01-14T11:57:12.048890553Z\",\"bids\":[{\"price\":\"1.21513\",\"liquidity\":10000000}],\"asks\":[{\"price\":\"1.21524\",\"liquidity\":10000000}],\"closeoutBid\":\"1.21513\",\"closeoutAsk\":\"1.21524\",\"status\":\"tradeable\",\"tradeable\":true,\"instrument\":\"EUR_USD\"}'\n",
            "b'{\"type\":\"PRICE\",\"time\":\"2021-01-14T11:57:13.447489522Z\",\"bids\":[{\"price\":\"1.21513\",\"liquidity\":10000000}],\"asks\":[{\"price\":\"1.21526\",\"liquidity\":10000000}],\"closeoutBid\":\"1.21513\",\"closeoutAsk\":\"1.21526\",\"status\":\"tradeable\",\"tradeable\":true,\"instrument\":\"EUR_USD\"}'\n",
            "b'{\"type\":\"HEARTBEAT\",\"time\":\"2021-01-14T11:57:13.656672896Z\"}'\n",
            "b'{\"type\":\"PRICE\",\"time\":\"2021-01-14T11:57:14.826557644Z\",\"bids\":[{\"price\":\"1.21515\",\"liquidity\":10000000}],\"asks\":[{\"price\":\"1.21526\",\"liquidity\":10000000}],\"closeoutBid\":\"1.21515\",\"closeoutAsk\":\"1.21526\",\"status\":\"tradeable\",\"tradeable\":true,\"instrument\":\"EUR_USD\"}'\n",
            "b'{\"type\":\"PRICE\",\"time\":\"2021-01-14T11:57:15.798762789Z\",\"bids\":[{\"price\":\"1.21513\",\"liquidity\":10000000}],\"asks\":[{\"price\":\"1.21525\",\"liquidity\":10000000}],\"closeoutBid\":\"1.21513\",\"closeoutAsk\":\"1.21525\",\"status\":\"tradeable\",\"tradeable\":true,\"instrument\":\"EUR_USD\"}'\n",
            "b'{\"type\":\"PRICE\",\"time\":\"2021-01-14T11:57:16.568960979Z\",\"bids\":[{\"price\":\"1.21513\",\"liquidity\":10000000}],\"asks\":[{\"price\":\"1.21527\",\"liquidity\":10000000}],\"closeoutBid\":\"1.21513\",\"closeoutAsk\":\"1.21527\",\"status\":\"tradeable\",\"tradeable\":true,\"instrument\":\"EUR_USD\"}'\n",
            "b'{\"type\":\"PRICE\",\"time\":\"2021-01-14T11:57:17.041433181Z\",\"bids\":[{\"price\":\"1.21512\",\"liquidity\":10000000}],\"asks\":[{\"price\":\"1.21526\",\"liquidity\":10000000}],\"closeoutBid\":\"1.21512\",\"closeoutAsk\":\"1.21526\",\"status\":\"tradeable\",\"tradeable\":true,\"instrument\":\"EUR_USD\"}'\n",
            "b'{\"type\":\"PRICE\",\"time\":\"2021-01-14T11:57:18.450908309Z\",\"bids\":[{\"price\":\"1.21510\",\"liquidity\":10000000}],\"asks\":[{\"price\":\"1.21525\",\"liquidity\":10000000}],\"closeoutBid\":\"1.21510\",\"closeoutAsk\":\"1.21525\",\"status\":\"tradeable\",\"tradeable\":true,\"instrument\":\"EUR_USD\"}'\n",
            "b'{\"type\":\"HEARTBEAT\",\"time\":\"2021-01-14T11:57:18.656865479Z\"}'\n",
            "b'{\"type\":\"PRICE\",\"time\":\"2021-01-14T11:57:19.547254866Z\",\"bids\":[{\"price\":\"1.21509\",\"liquidity\":10000000}],\"asks\":[{\"price\":\"1.21523\",\"liquidity\":10000000}],\"closeoutBid\":\"1.21509\",\"closeoutAsk\":\"1.21523\",\"status\":\"tradeable\",\"tradeable\":true,\"instrument\":\"EUR_USD\"}'\n",
            "b'{\"type\":\"PRICE\",\"time\":\"2021-01-14T11:57:19.814147670Z\",\"bids\":[{\"price\":\"1.21512\",\"liquidity\":10000000}],\"asks\":[{\"price\":\"1.21526\",\"liquidity\":10000000}],\"closeoutBid\":\"1.21512\",\"closeoutAsk\":\"1.21526\",\"status\":\"tradeable\",\"tradeable\":true,\"instrument\":\"EUR_USD\"}'\n",
            "b'{\"type\":\"PRICE\",\"time\":\"2021-01-14T11:57:20.132230863Z\",\"bids\":[{\"price\":\"1.21511\",\"liquidity\":10000000}],\"asks\":[{\"price\":\"1.21525\",\"liquidity\":10000000}],\"closeoutBid\":\"1.21511\",\"closeoutAsk\":\"1.21525\",\"status\":\"tradeable\",\"tradeable\":true,\"instrument\":\"EUR_USD\"}'\n",
            "b'{\"type\":\"PRICE\",\"time\":\"2021-01-14T11:57:20.391173301Z\",\"bids\":[{\"price\":\"1.21510\",\"liquidity\":10000000}],\"asks\":[{\"price\":\"1.21523\",\"liquidity\":10000000}],\"closeoutBid\":\"1.21510\",\"closeoutAsk\":\"1.21523\",\"status\":\"tradeable\",\"tradeable\":true,\"instrument\":\"EUR_USD\"}'\n",
            "b'{\"type\":\"PRICE\",\"time\":\"2021-01-14T11:57:21.596766973Z\",\"bids\":[{\"price\":\"1.21508\",\"liquidity\":10000000}],\"asks\":[{\"price\":\"1.21521\",\"liquidity\":10000000}],\"closeoutBid\":\"1.21508\",\"closeoutAsk\":\"1.21521\",\"status\":\"tradeable\",\"tradeable\":true,\"instrument\":\"EUR_USD\"}'\n",
            "b'{\"type\":\"PRICE\",\"time\":\"2021-01-14T11:57:21.781706232Z\",\"bids\":[{\"price\":\"1.21504\",\"liquidity\":10000000}],\"asks\":[{\"price\":\"1.21522\",\"liquidity\":10000000}],\"closeoutBid\":\"1.21504\",\"closeoutAsk\":\"1.21522\",\"status\":\"tradeable\",\"tradeable\":true,\"instrument\":\"EUR_USD\"}'\n",
            "b'{\"type\":\"PRICE\",\"time\":\"2021-01-14T11:57:22.301566232Z\",\"bids\":[{\"price\":\"1.21508\",\"liquidity\":10000000}],\"asks\":[{\"price\":\"1.21522\",\"liquidity\":10000000}],\"closeoutBid\":\"1.21508\",\"closeoutAsk\":\"1.21522\",\"status\":\"tradeable\",\"tradeable\":true,\"instrument\":\"EUR_USD\"}'\n",
            "b'{\"type\":\"HEARTBEAT\",\"time\":\"2021-01-14T11:57:23.657052396Z\"}'\n",
            "b'{\"type\":\"PRICE\",\"time\":\"2021-01-14T11:57:24.840757540Z\",\"bids\":[{\"price\":\"1.21513\",\"liquidity\":10000000}],\"asks\":[{\"price\":\"1.21525\",\"liquidity\":10000000}],\"closeoutBid\":\"1.21513\",\"closeoutAsk\":\"1.21525\",\"status\":\"tradeable\",\"tradeable\":true,\"instrument\":\"EUR_USD\"}'\n",
            "b'{\"type\":\"PRICE\",\"time\":\"2021-01-14T11:57:24.916346771Z\",\"bids\":[{\"price\":\"1.21512\",\"liquidity\":10000000}],\"asks\":[{\"price\":\"1.21526\",\"liquidity\":10000000}],\"closeoutBid\":\"1.21512\",\"closeoutAsk\":\"1.21526\",\"status\":\"tradeable\",\"tradeable\":true,\"instrument\":\"EUR_USD\"}'\n",
            "b'{\"type\":\"PRICE\",\"time\":\"2021-01-14T11:57:25.913773942Z\",\"bids\":[{\"price\":\"1.21512\",\"liquidity\":10000000}],\"asks\":[{\"price\":\"1.21525\",\"liquidity\":10000000}],\"closeoutBid\":\"1.21512\",\"closeoutAsk\":\"1.21525\",\"status\":\"tradeable\",\"tradeable\":true,\"instrument\":\"EUR_USD\"}'\n",
            "b'{\"type\":\"PRICE\",\"time\":\"2021-01-14T11:57:26.584557985Z\",\"bids\":[{\"price\":\"1.21511\",\"liquidity\":10000000}],\"asks\":[{\"price\":\"1.21524\",\"liquidity\":10000000}],\"closeoutBid\":\"1.21511\",\"closeoutAsk\":\"1.21524\",\"status\":\"tradeable\",\"tradeable\":true,\"instrument\":\"EUR_USD\"}'\n",
            "b'{\"type\":\"PRICE\",\"time\":\"2021-01-14T11:57:27.536481351Z\",\"bids\":[{\"price\":\"1.21512\",\"liquidity\":10000000}],\"asks\":[{\"price\":\"1.21525\",\"liquidity\":10000000}],\"closeoutBid\":\"1.21512\",\"closeoutAsk\":\"1.21525\",\"status\":\"tradeable\",\"tradeable\":true,\"instrument\":\"EUR_USD\"}'\n",
            "b'{\"type\":\"PRICE\",\"time\":\"2021-01-14T11:57:27.874915822Z\",\"bids\":[{\"price\":\"1.21511\",\"liquidity\":10000000}],\"asks\":[{\"price\":\"1.21524\",\"liquidity\":10000000}],\"closeoutBid\":\"1.21511\",\"closeoutAsk\":\"1.21524\",\"status\":\"tradeable\",\"tradeable\":true,\"instrument\":\"EUR_USD\"}'\n",
            "b'{\"type\":\"PRICE\",\"time\":\"2021-01-14T11:57:28.042338096Z\",\"bids\":[{\"price\":\"1.21512\",\"liquidity\":10000000}],\"asks\":[{\"price\":\"1.21525\",\"liquidity\":10000000}],\"closeoutBid\":\"1.21512\",\"closeoutAsk\":\"1.21525\",\"status\":\"tradeable\",\"tradeable\":true,\"instrument\":\"EUR_USD\"}'\n",
            "b'{\"type\":\"HEARTBEAT\",\"time\":\"2021-01-14T11:57:28.657424310Z\"}'\n",
            "b'{\"type\":\"PRICE\",\"time\":\"2021-01-14T11:57:30.063975898Z\",\"bids\":[{\"price\":\"1.21512\",\"liquidity\":10000000}],\"asks\":[{\"price\":\"1.21525\",\"liquidity\":10000000}],\"closeoutBid\":\"1.21512\",\"closeoutAsk\":\"1.21525\",\"status\":\"tradeable\",\"tradeable\":true,\"instrument\":\"EUR_USD\"}'\n",
            "b'{\"type\":\"PRICE\",\"time\":\"2021-01-14T11:57:31.718055349Z\",\"bids\":[{\"price\":\"1.21514\",\"liquidity\":10000000}],\"asks\":[{\"price\":\"1.21526\",\"liquidity\":10000000}],\"closeoutBid\":\"1.21514\",\"closeoutAsk\":\"1.21526\",\"status\":\"tradeable\",\"tradeable\":true,\"instrument\":\"EUR_USD\"}'\n",
            "b'{\"type\":\"PRICE\",\"time\":\"2021-01-14T11:57:33.376442886Z\",\"bids\":[{\"price\":\"1.21515\",\"liquidity\":10000000}],\"asks\":[{\"price\":\"1.21529\",\"liquidity\":10000000}],\"closeoutBid\":\"1.21515\",\"closeoutAsk\":\"1.21529\",\"status\":\"tradeable\",\"tradeable\":true,\"instrument\":\"EUR_USD\"}'\n",
            "b'{\"type\":\"PRICE\",\"time\":\"2021-01-14T11:57:33.631381222Z\",\"bids\":[{\"price\":\"1.21518\",\"liquidity\":10000000}],\"asks\":[{\"price\":\"1.21528\",\"liquidity\":10000000}],\"closeoutBid\":\"1.21518\",\"closeoutAsk\":\"1.21528\",\"status\":\"tradeable\",\"tradeable\":true,\"instrument\":\"EUR_USD\"}'\n",
            "b'{\"type\":\"HEARTBEAT\",\"time\":\"2021-01-14T11:57:33.657848067Z\"}'\n",
            "b'{\"type\":\"PRICE\",\"time\":\"2021-01-14T11:57:33.706633014Z\",\"bids\":[{\"price\":\"1.21517\",\"liquidity\":10000000}],\"asks\":[{\"price\":\"1.21527\",\"liquidity\":10000000}],\"closeoutBid\":\"1.21517\",\"closeoutAsk\":\"1.21527\",\"status\":\"tradeable\",\"tradeable\":true,\"instrument\":\"EUR_USD\"}'\n",
            "b'{\"type\":\"PRICE\",\"time\":\"2021-01-14T11:57:34.816240103Z\",\"bids\":[{\"price\":\"1.21516\",\"liquidity\":10000000}],\"asks\":[{\"price\":\"1.21534\",\"liquidity\":10000000}],\"closeoutBid\":\"1.21516\",\"closeoutAsk\":\"1.21534\",\"status\":\"tradeable\",\"tradeable\":true,\"instrument\":\"EUR_USD\"}'\n",
            "b'{\"type\":\"PRICE\",\"time\":\"2021-01-14T11:57:35.347617098Z\",\"bids\":[{\"price\":\"1.21524\",\"liquidity\":10000000}],\"asks\":[{\"price\":\"1.21536\",\"liquidity\":10000000}],\"closeoutBid\":\"1.21524\",\"closeoutAsk\":\"1.21536\",\"status\":\"tradeable\",\"tradeable\":true,\"instrument\":\"EUR_USD\"}'\n",
            "b'{\"type\":\"PRICE\",\"time\":\"2021-01-14T11:57:35.526705648Z\",\"bids\":[{\"price\":\"1.21524\",\"liquidity\":10000000}],\"asks\":[{\"price\":\"1.21536\",\"liquidity\":10000000}],\"closeoutBid\":\"1.21524\",\"closeoutAsk\":\"1.21536\",\"status\":\"tradeable\",\"tradeable\":true,\"instrument\":\"EUR_USD\"}'\n",
            "b'{\"type\":\"PRICE\",\"time\":\"2021-01-14T11:57:36.261531463Z\",\"bids\":[{\"price\":\"1.21522\",\"liquidity\":10000000}],\"asks\":[{\"price\":\"1.21535\",\"liquidity\":10000000}],\"closeoutBid\":\"1.21522\",\"closeoutAsk\":\"1.21535\",\"status\":\"tradeable\",\"tradeable\":true,\"instrument\":\"EUR_USD\"}'\n",
            "b'{\"type\":\"PRICE\",\"time\":\"2021-01-14T11:57:36.568735013Z\",\"bids\":[{\"price\":\"1.21524\",\"liquidity\":10000000}],\"asks\":[{\"price\":\"1.21536\",\"liquidity\":10000000}],\"closeoutBid\":\"1.21524\",\"closeoutAsk\":\"1.21536\",\"status\":\"tradeable\",\"tradeable\":true,\"instrument\":\"EUR_USD\"}'\n",
            "b'{\"type\":\"PRICE\",\"time\":\"2021-01-14T11:57:36.827017194Z\",\"bids\":[{\"price\":\"1.21523\",\"liquidity\":10000000}],\"asks\":[{\"price\":\"1.21535\",\"liquidity\":10000000}],\"closeoutBid\":\"1.21523\",\"closeoutAsk\":\"1.21535\",\"status\":\"tradeable\",\"tradeable\":true,\"instrument\":\"EUR_USD\"}'\n",
            "b'{\"type\":\"HEARTBEAT\",\"time\":\"2021-01-14T11:57:38.658561049Z\"}'\n",
            "b'{\"type\":\"PRICE\",\"time\":\"2021-01-14T11:57:38.564307622Z\",\"bids\":[{\"price\":\"1.21521\",\"liquidity\":10000000}],\"asks\":[{\"price\":\"1.21535\",\"liquidity\":10000000}],\"closeoutBid\":\"1.21521\",\"closeoutAsk\":\"1.21535\",\"status\":\"tradeable\",\"tradeable\":true,\"instrument\":\"EUR_USD\"}'\n",
            "b'{\"type\":\"PRICE\",\"time\":\"2021-01-14T11:57:38.775739626Z\",\"bids\":[{\"price\":\"1.21520\",\"liquidity\":10000000}],\"asks\":[{\"price\":\"1.21533\",\"liquidity\":10000000}],\"closeoutBid\":\"1.21520\",\"closeoutAsk\":\"1.21533\",\"status\":\"tradeable\",\"tradeable\":true,\"instrument\":\"EUR_USD\"}'\n",
            "b'{\"type\":\"PRICE\",\"time\":\"2021-01-14T11:57:39.849774238Z\",\"bids\":[{\"price\":\"1.21521\",\"liquidity\":10000000}],\"asks\":[{\"price\":\"1.21532\",\"liquidity\":10000000}],\"closeoutBid\":\"1.21521\",\"closeoutAsk\":\"1.21532\",\"status\":\"tradeable\",\"tradeable\":true,\"instrument\":\"EUR_USD\"}'\n",
            "b'{\"type\":\"PRICE\",\"time\":\"2021-01-14T11:57:40.234788929Z\",\"bids\":[{\"price\":\"1.21520\",\"liquidity\":10000000}],\"asks\":[{\"price\":\"1.21531\",\"liquidity\":10000000}],\"closeoutBid\":\"1.21520\",\"closeoutAsk\":\"1.21531\",\"status\":\"tradeable\",\"tradeable\":true,\"instrument\":\"EUR_USD\"}'\n",
            "b'{\"type\":\"PRICE\",\"time\":\"2021-01-14T11:57:40.632793729Z\",\"bids\":[{\"price\":\"1.21519\",\"liquidity\":10000000}],\"asks\":[{\"price\":\"1.21532\",\"liquidity\":10000000}],\"closeoutBid\":\"1.21519\",\"closeoutAsk\":\"1.21532\",\"status\":\"tradeable\",\"tradeable\":true,\"instrument\":\"EUR_USD\"}'\n",
            "b'{\"type\":\"PRICE\",\"time\":\"2021-01-14T11:57:41.374580262Z\",\"bids\":[{\"price\":\"1.21520\",\"liquidity\":10000000}],\"asks\":[{\"price\":\"1.21533\",\"liquidity\":10000000}],\"closeoutBid\":\"1.21520\",\"closeoutAsk\":\"1.21533\",\"status\":\"tradeable\",\"tradeable\":true,\"instrument\":\"EUR_USD\"}'\n",
            "b'{\"type\":\"PRICE\",\"time\":\"2021-01-14T11:57:42.182712054Z\",\"bids\":[{\"price\":\"1.21519\",\"liquidity\":10000000}],\"asks\":[{\"price\":\"1.21531\",\"liquidity\":10000000}],\"closeoutBid\":\"1.21519\",\"closeoutAsk\":\"1.21531\",\"status\":\"tradeable\",\"tradeable\":true,\"instrument\":\"EUR_USD\"}'\n",
            "b'{\"type\":\"PRICE\",\"time\":\"2021-01-14T11:57:42.849315059Z\",\"bids\":[{\"price\":\"1.21519\",\"liquidity\":10000000}],\"asks\":[{\"price\":\"1.21531\",\"liquidity\":10000000}],\"closeoutBid\":\"1.21519\",\"closeoutAsk\":\"1.21531\",\"status\":\"tradeable\",\"tradeable\":true,\"instrument\":\"EUR_USD\"}'\n",
            "b'{\"type\":\"PRICE\",\"time\":\"2021-01-14T11:57:43.135227547Z\",\"bids\":[{\"price\":\"1.21519\",\"liquidity\":10000000}],\"asks\":[{\"price\":\"1.21531\",\"liquidity\":10000000}],\"closeoutBid\":\"1.21519\",\"closeoutAsk\":\"1.21531\",\"status\":\"tradeable\",\"tradeable\":true,\"instrument\":\"EUR_USD\"}'\n",
            "b'{\"type\":\"PRICE\",\"time\":\"2021-01-14T11:57:43.191600940Z\",\"bids\":[{\"price\":\"1.21520\",\"liquidity\":10000000}],\"asks\":[{\"price\":\"1.21532\",\"liquidity\":10000000}],\"closeoutBid\":\"1.21520\",\"closeoutAsk\":\"1.21532\",\"status\":\"tradeable\",\"tradeable\":true,\"instrument\":\"EUR_USD\"}'\n",
            "b'{\"type\":\"HEARTBEAT\",\"time\":\"2021-01-14T11:57:43.658610879Z\"}'\n",
            "b'{\"type\":\"PRICE\",\"time\":\"2021-01-14T11:57:44.911364301Z\",\"bids\":[{\"price\":\"1.21514\",\"liquidity\":10000000}],\"asks\":[{\"price\":\"1.21527\",\"liquidity\":10000000}],\"closeoutBid\":\"1.21514\",\"closeoutAsk\":\"1.21527\",\"status\":\"tradeable\",\"tradeable\":true,\"instrument\":\"EUR_USD\"}'\n",
            "b'{\"type\":\"PRICE\",\"time\":\"2021-01-14T11:57:46.859440491Z\",\"bids\":[{\"price\":\"1.21517\",\"liquidity\":10000000}],\"asks\":[{\"price\":\"1.21527\",\"liquidity\":10000000}],\"closeoutBid\":\"1.21517\",\"closeoutAsk\":\"1.21527\",\"status\":\"tradeable\",\"tradeable\":true,\"instrument\":\"EUR_USD\"}'\n",
            "b'{\"type\":\"PRICE\",\"time\":\"2021-01-14T11:57:48.011680913Z\",\"bids\":[{\"price\":\"1.21516\",\"liquidity\":10000000}],\"asks\":[{\"price\":\"1.21526\",\"liquidity\":10000000}],\"closeoutBid\":\"1.21516\",\"closeoutAsk\":\"1.21526\",\"status\":\"tradeable\",\"tradeable\":true,\"instrument\":\"EUR_USD\"}'\n",
            "b'{\"type\":\"HEARTBEAT\",\"time\":\"2021-01-14T11:57:48.658973374Z\"}'\n",
            "b'{\"type\":\"PRICE\",\"time\":\"2021-01-14T11:57:48.507136203Z\",\"bids\":[{\"price\":\"1.21515\",\"liquidity\":10000000}],\"asks\":[{\"price\":\"1.21529\",\"liquidity\":10000000}],\"closeoutBid\":\"1.21515\",\"closeoutAsk\":\"1.21529\",\"status\":\"tradeable\",\"tradeable\":true,\"instrument\":\"EUR_USD\"}'\n",
            "b'{\"type\":\"PRICE\",\"time\":\"2021-01-14T11:57:51.936428309Z\",\"bids\":[{\"price\":\"1.21515\",\"liquidity\":10000000}],\"asks\":[{\"price\":\"1.21527\",\"liquidity\":10000000}],\"closeoutBid\":\"1.21515\",\"closeoutAsk\":\"1.21527\",\"status\":\"tradeable\",\"tradeable\":true,\"instrument\":\"EUR_USD\"}'\n",
            "b'{\"type\":\"PRICE\",\"time\":\"2021-01-14T11:57:52.417282187Z\",\"bids\":[{\"price\":\"1.21517\",\"liquidity\":10000000}],\"asks\":[{\"price\":\"1.21531\",\"liquidity\":10000000}],\"closeoutBid\":\"1.21517\",\"closeoutAsk\":\"1.21531\",\"status\":\"tradeable\",\"tradeable\":true,\"instrument\":\"EUR_USD\"}'\n",
            "b'{\"type\":\"PRICE\",\"time\":\"2021-01-14T11:57:52.887921007Z\",\"bids\":[{\"price\":\"1.21521\",\"liquidity\":10000000}],\"asks\":[{\"price\":\"1.21533\",\"liquidity\":10000000}],\"closeoutBid\":\"1.21521\",\"closeoutAsk\":\"1.21533\",\"status\":\"tradeable\",\"tradeable\":true,\"instrument\":\"EUR_USD\"}'\n",
            "b'{\"type\":\"PRICE\",\"time\":\"2021-01-14T11:57:53.375274135Z\",\"bids\":[{\"price\":\"1.21523\",\"liquidity\":10000000}],\"asks\":[{\"price\":\"1.21533\",\"liquidity\":10000000}],\"closeoutBid\":\"1.21523\",\"closeoutAsk\":\"1.21533\",\"status\":\"tradeable\",\"tradeable\":true,\"instrument\":\"EUR_USD\"}'\n",
            "b'{\"type\":\"HEARTBEAT\",\"time\":\"2021-01-14T11:57:53.659405787Z\"}'\n",
            "b'{\"type\":\"PRICE\",\"time\":\"2021-01-14T11:57:54.131197060Z\",\"bids\":[{\"price\":\"1.21522\",\"liquidity\":10000000}],\"asks\":[{\"price\":\"1.21534\",\"liquidity\":10000000}],\"closeoutBid\":\"1.21522\",\"closeoutAsk\":\"1.21534\",\"status\":\"tradeable\",\"tradeable\":true,\"instrument\":\"EUR_USD\"}'\n",
            "b'{\"type\":\"PRICE\",\"time\":\"2021-01-14T11:57:54.234733528Z\",\"bids\":[{\"price\":\"1.21524\",\"liquidity\":10000000}],\"asks\":[{\"price\":\"1.21534\",\"liquidity\":10000000}],\"closeoutBid\":\"1.21524\",\"closeoutAsk\":\"1.21534\",\"status\":\"tradeable\",\"tradeable\":true,\"instrument\":\"EUR_USD\"}'\n",
            "b'{\"type\":\"PRICE\",\"time\":\"2021-01-14T11:57:54.576714914Z\",\"bids\":[{\"price\":\"1.21521\",\"liquidity\":10000000}],\"asks\":[{\"price\":\"1.21532\",\"liquidity\":10000000}],\"closeoutBid\":\"1.21521\",\"closeoutAsk\":\"1.21532\",\"status\":\"tradeable\",\"tradeable\":true,\"instrument\":\"EUR_USD\"}'\n",
            "b'{\"type\":\"PRICE\",\"time\":\"2021-01-14T11:57:54.824264513Z\",\"bids\":[{\"price\":\"1.21523\",\"liquidity\":10000000}],\"asks\":[{\"price\":\"1.21535\",\"liquidity\":10000000}],\"closeoutBid\":\"1.21523\",\"closeoutAsk\":\"1.21535\",\"status\":\"tradeable\",\"tradeable\":true,\"instrument\":\"EUR_USD\"}'\n",
            "b'{\"type\":\"PRICE\",\"time\":\"2021-01-14T11:57:56.907339421Z\",\"bids\":[{\"price\":\"1.21521\",\"liquidity\":10000000}],\"asks\":[{\"price\":\"1.21533\",\"liquidity\":10000000}],\"closeoutBid\":\"1.21521\",\"closeoutAsk\":\"1.21533\",\"status\":\"tradeable\",\"tradeable\":true,\"instrument\":\"EUR_USD\"}'\n",
            "b'{\"type\":\"PRICE\",\"time\":\"2021-01-14T11:57:57.011711103Z\",\"bids\":[{\"price\":\"1.21520\",\"liquidity\":10000000}],\"asks\":[{\"price\":\"1.21531\",\"liquidity\":10000000}],\"closeoutBid\":\"1.21520\",\"closeoutAsk\":\"1.21531\",\"status\":\"tradeable\",\"tradeable\":true,\"instrument\":\"EUR_USD\"}'\n",
            "b'{\"type\":\"HEARTBEAT\",\"time\":\"2021-01-14T11:57:58.909389875Z\"}'\n",
            "b'{\"type\":\"PRICE\",\"time\":\"2021-01-14T11:57:58.851574304Z\",\"bids\":[{\"price\":\"1.21518\",\"liquidity\":10000000}],\"asks\":[{\"price\":\"1.21531\",\"liquidity\":10000000}],\"closeoutBid\":\"1.21518\",\"closeoutAsk\":\"1.21531\",\"status\":\"tradeable\",\"tradeable\":true,\"instrument\":\"EUR_USD\"}'\n",
            "b'{\"type\":\"PRICE\",\"time\":\"2021-01-14T11:57:59.028262371Z\",\"bids\":[{\"price\":\"1.21520\",\"liquidity\":10000000}],\"asks\":[{\"price\":\"1.21531\",\"liquidity\":10000000}],\"closeoutBid\":\"1.21520\",\"closeoutAsk\":\"1.21531\",\"status\":\"tradeable\",\"tradeable\":true,\"instrument\":\"EUR_USD\"}'\n",
            "b'{\"type\":\"PRICE\",\"time\":\"2021-01-14T11:57:59.475471808Z\",\"bids\":[{\"price\":\"1.21519\",\"liquidity\":10000000}],\"asks\":[{\"price\":\"1.21530\",\"liquidity\":10000000}],\"closeoutBid\":\"1.21519\",\"closeoutAsk\":\"1.21530\",\"status\":\"tradeable\",\"tradeable\":true,\"instrument\":\"EUR_USD\"}'\n",
            "b'{\"type\":\"PRICE\",\"time\":\"2021-01-14T11:57:59.711201622Z\",\"bids\":[{\"price\":\"1.21520\",\"liquidity\":10000000}],\"asks\":[{\"price\":\"1.21531\",\"liquidity\":10000000}],\"closeoutBid\":\"1.21520\",\"closeoutAsk\":\"1.21531\",\"status\":\"tradeable\",\"tradeable\":true,\"instrument\":\"EUR_USD\"}'\n",
            "b'{\"type\":\"HEARTBEAT\",\"time\":\"2021-01-14T11:58:03.910447606Z\"}'\n",
            "b'{\"type\":\"PRICE\",\"time\":\"2021-01-14T11:58:04.386479803Z\",\"bids\":[{\"price\":\"1.21521\",\"liquidity\":10000000}],\"asks\":[{\"price\":\"1.21532\",\"liquidity\":10000000}],\"closeoutBid\":\"1.21521\",\"closeoutAsk\":\"1.21532\",\"status\":\"tradeable\",\"tradeable\":true,\"instrument\":\"EUR_USD\"}'\n",
            "b'{\"type\":\"PRICE\",\"time\":\"2021-01-14T11:58:05.386697633Z\",\"bids\":[{\"price\":\"1.21521\",\"liquidity\":10000000}],\"asks\":[{\"price\":\"1.21534\",\"liquidity\":10000000}],\"closeoutBid\":\"1.21521\",\"closeoutAsk\":\"1.21534\",\"status\":\"tradeable\",\"tradeable\":true,\"instrument\":\"EUR_USD\"}'\n",
            "b'{\"type\":\"HEARTBEAT\",\"time\":\"2021-01-14T11:58:09.160358729Z\"}'\n",
            "b'{\"type\":\"PRICE\",\"time\":\"2021-01-14T11:58:09.880749733Z\",\"bids\":[{\"price\":\"1.21522\",\"liquidity\":10000000}],\"asks\":[{\"price\":\"1.21534\",\"liquidity\":10000000}],\"closeoutBid\":\"1.21522\",\"closeoutAsk\":\"1.21534\",\"status\":\"tradeable\",\"tradeable\":true,\"instrument\":\"EUR_USD\"}'\n",
            "b'{\"type\":\"PRICE\",\"time\":\"2021-01-14T11:58:12.580967974Z\",\"bids\":[{\"price\":\"1.21519\",\"liquidity\":10000000}],\"asks\":[{\"price\":\"1.21534\",\"liquidity\":10000000}],\"closeoutBid\":\"1.21519\",\"closeoutAsk\":\"1.21534\",\"status\":\"tradeable\",\"tradeable\":true,\"instrument\":\"EUR_USD\"}'\n",
            "b'{\"type\":\"PRICE\",\"time\":\"2021-01-14T11:58:13.147411800Z\",\"bids\":[{\"price\":\"1.21520\",\"liquidity\":10000000}],\"asks\":[{\"price\":\"1.21531\",\"liquidity\":10000000}],\"closeoutBid\":\"1.21520\",\"closeoutAsk\":\"1.21531\",\"status\":\"tradeable\",\"tradeable\":true,\"instrument\":\"EUR_USD\"}'\n",
            "b'{\"type\":\"HEARTBEAT\",\"time\":\"2021-01-14T11:58:14.160639015Z\"}'\n",
            "b'{\"type\":\"PRICE\",\"time\":\"2021-01-14T11:58:14.124341172Z\",\"bids\":[{\"price\":\"1.21519\",\"liquidity\":10000000}],\"asks\":[{\"price\":\"1.21538\",\"liquidity\":10000000}],\"closeoutBid\":\"1.21519\",\"closeoutAsk\":\"1.21538\",\"status\":\"tradeable\",\"tradeable\":true,\"instrument\":\"EUR_USD\"}'\n",
            "b'{\"type\":\"PRICE\",\"time\":\"2021-01-14T11:58:14.821332927Z\",\"bids\":[{\"price\":\"1.21523\",\"liquidity\":10000000}],\"asks\":[{\"price\":\"1.21536\",\"liquidity\":10000000}],\"closeoutBid\":\"1.21523\",\"closeoutAsk\":\"1.21536\",\"status\":\"tradeable\",\"tradeable\":true,\"instrument\":\"EUR_USD\"}'\n",
            "b'{\"type\":\"PRICE\",\"time\":\"2021-01-14T11:58:16.982216793Z\",\"bids\":[{\"price\":\"1.21522\",\"liquidity\":10000000}],\"asks\":[{\"price\":\"1.21534\",\"liquidity\":10000000}],\"closeoutBid\":\"1.21522\",\"closeoutAsk\":\"1.21534\",\"status\":\"tradeable\",\"tradeable\":true,\"instrument\":\"EUR_USD\"}'\n",
            "b'{\"type\":\"PRICE\",\"time\":\"2021-01-14T11:58:17.689132680Z\",\"bids\":[{\"price\":\"1.21521\",\"liquidity\":10000000}],\"asks\":[{\"price\":\"1.21533\",\"liquidity\":10000000}],\"closeoutBid\":\"1.21521\",\"closeoutAsk\":\"1.21533\",\"status\":\"tradeable\",\"tradeable\":true,\"instrument\":\"EUR_USD\"}'\n",
            "b'{\"type\":\"PRICE\",\"time\":\"2021-01-14T11:58:17.776724581Z\",\"bids\":[{\"price\":\"1.21521\",\"liquidity\":10000000}],\"asks\":[{\"price\":\"1.21531\",\"liquidity\":10000000}],\"closeoutBid\":\"1.21521\",\"closeoutAsk\":\"1.21531\",\"status\":\"tradeable\",\"tradeable\":true,\"instrument\":\"EUR_USD\"}'\n",
            "b'{\"type\":\"HEARTBEAT\",\"time\":\"2021-01-14T11:58:19.160773461Z\"}'\n",
            "b'{\"type\":\"PRICE\",\"time\":\"2021-01-14T11:58:20.875961835Z\",\"bids\":[{\"price\":\"1.21518\",\"liquidity\":10000000}],\"asks\":[{\"price\":\"1.21531\",\"liquidity\":10000000}],\"closeoutBid\":\"1.21518\",\"closeoutAsk\":\"1.21531\",\"status\":\"tradeable\",\"tradeable\":true,\"instrument\":\"EUR_USD\"}'\n",
            "b'{\"type\":\"PRICE\",\"time\":\"2021-01-14T11:58:22.405455275Z\",\"bids\":[{\"price\":\"1.21516\",\"liquidity\":10000000}],\"asks\":[{\"price\":\"1.21528\",\"liquidity\":10000000}],\"closeoutBid\":\"1.21516\",\"closeoutAsk\":\"1.21528\",\"status\":\"tradeable\",\"tradeable\":true,\"instrument\":\"EUR_USD\"}'\n",
            "b'{\"type\":\"HEARTBEAT\",\"time\":\"2021-01-14T11:58:24.161796540Z\"}'\n",
            "b'{\"type\":\"PRICE\",\"time\":\"2021-01-14T11:58:28.922841183Z\",\"bids\":[{\"price\":\"1.21517\",\"liquidity\":10000000}],\"asks\":[{\"price\":\"1.21529\",\"liquidity\":10000000}],\"closeoutBid\":\"1.21517\",\"closeoutAsk\":\"1.21529\",\"status\":\"tradeable\",\"tradeable\":true,\"instrument\":\"EUR_USD\"}'\n",
            "b'{\"type\":\"HEARTBEAT\",\"time\":\"2021-01-14T11:58:29.161859914Z\"}'\n",
            "b'{\"type\":\"PRICE\",\"time\":\"2021-01-14T11:58:29.950175879Z\",\"bids\":[{\"price\":\"1.21517\",\"liquidity\":10000000}],\"asks\":[{\"price\":\"1.21529\",\"liquidity\":10000000}],\"closeoutBid\":\"1.21517\",\"closeoutAsk\":\"1.21529\",\"status\":\"tradeable\",\"tradeable\":true,\"instrument\":\"EUR_USD\"}'\n",
            "b'{\"type\":\"PRICE\",\"time\":\"2021-01-14T11:58:31.642639822Z\",\"bids\":[{\"price\":\"1.21520\",\"liquidity\":10000000}],\"asks\":[{\"price\":\"1.21531\",\"liquidity\":10000000}],\"closeoutBid\":\"1.21520\",\"closeoutAsk\":\"1.21531\",\"status\":\"tradeable\",\"tradeable\":true,\"instrument\":\"EUR_USD\"}'\n",
            "b'{\"type\":\"HEARTBEAT\",\"time\":\"2021-01-14T11:58:34.162165595Z\"}'\n",
            "b'{\"type\":\"PRICE\",\"time\":\"2021-01-14T11:58:36.717431150Z\",\"bids\":[{\"price\":\"1.21517\",\"liquidity\":10000000}],\"asks\":[{\"price\":\"1.21531\",\"liquidity\":10000000}],\"closeoutBid\":\"1.21517\",\"closeoutAsk\":\"1.21531\",\"status\":\"tradeable\",\"tradeable\":true,\"instrument\":\"EUR_USD\"}'\n",
            "b'{\"type\":\"PRICE\",\"time\":\"2021-01-14T11:58:37.917063443Z\",\"bids\":[{\"price\":\"1.21514\",\"liquidity\":10000000}],\"asks\":[{\"price\":\"1.21528\",\"liquidity\":10000000}],\"closeoutBid\":\"1.21514\",\"closeoutAsk\":\"1.21528\",\"status\":\"tradeable\",\"tradeable\":true,\"instrument\":\"EUR_USD\"}'\n",
            "b'{\"type\":\"PRICE\",\"time\":\"2021-01-14T11:58:38.084127017Z\",\"bids\":[{\"price\":\"1.21509\",\"liquidity\":10000000}],\"asks\":[{\"price\":\"1.21524\",\"liquidity\":10000000}],\"closeoutBid\":\"1.21509\",\"closeoutAsk\":\"1.21524\",\"status\":\"tradeable\",\"tradeable\":true,\"instrument\":\"EUR_USD\"}'\n",
            "b'{\"type\":\"HEARTBEAT\",\"time\":\"2021-01-14T11:58:39.162650024Z\"}'\n",
            "b'{\"type\":\"PRICE\",\"time\":\"2021-01-14T11:58:39.615261217Z\",\"bids\":[{\"price\":\"1.21509\",\"liquidity\":10000000}],\"asks\":[{\"price\":\"1.21522\",\"liquidity\":10000000}],\"closeoutBid\":\"1.21509\",\"closeoutAsk\":\"1.21522\",\"status\":\"tradeable\",\"tradeable\":true,\"instrument\":\"EUR_USD\"}'\n",
            "b'{\"type\":\"PRICE\",\"time\":\"2021-01-14T11:58:42.947500959Z\",\"bids\":[{\"price\":\"1.21511\",\"liquidity\":10000000}],\"asks\":[{\"price\":\"1.21523\",\"liquidity\":10000000}],\"closeoutBid\":\"1.21511\",\"closeoutAsk\":\"1.21523\",\"status\":\"tradeable\",\"tradeable\":true,\"instrument\":\"EUR_USD\"}'\n",
            "b'{\"type\":\"PRICE\",\"time\":\"2021-01-14T11:58:43.041156412Z\",\"bids\":[{\"price\":\"1.21510\",\"liquidity\":10000000}],\"asks\":[{\"price\":\"1.21522\",\"liquidity\":10000000}],\"closeoutBid\":\"1.21510\",\"closeoutAsk\":\"1.21522\",\"status\":\"tradeable\",\"tradeable\":true,\"instrument\":\"EUR_USD\"}'\n",
            "b'{\"type\":\"PRICE\",\"time\":\"2021-01-14T11:58:43.356012470Z\",\"bids\":[{\"price\":\"1.21510\",\"liquidity\":10000000}],\"asks\":[{\"price\":\"1.21522\",\"liquidity\":10000000}],\"closeoutBid\":\"1.21510\",\"closeoutAsk\":\"1.21522\",\"status\":\"tradeable\",\"tradeable\":true,\"instrument\":\"EUR_USD\"}'\n",
            "b'{\"type\":\"PRICE\",\"time\":\"2021-01-14T11:58:43.618366943Z\",\"bids\":[{\"price\":\"1.21511\",\"liquidity\":10000000}],\"asks\":[{\"price\":\"1.21523\",\"liquidity\":10000000}],\"closeoutBid\":\"1.21511\",\"closeoutAsk\":\"1.21523\",\"status\":\"tradeable\",\"tradeable\":true,\"instrument\":\"EUR_USD\"}'\n",
            "b'{\"type\":\"HEARTBEAT\",\"time\":\"2021-01-14T11:58:44.162959147Z\"}'\n",
            "b'{\"type\":\"PRICE\",\"time\":\"2021-01-14T11:58:45.082019296Z\",\"bids\":[{\"price\":\"1.21510\",\"liquidity\":10000000}],\"asks\":[{\"price\":\"1.21522\",\"liquidity\":10000000}],\"closeoutBid\":\"1.21510\",\"closeoutAsk\":\"1.21522\",\"status\":\"tradeable\",\"tradeable\":true,\"instrument\":\"EUR_USD\"}'\n",
            "b'{\"type\":\"PRICE\",\"time\":\"2021-01-14T11:58:45.465717648Z\",\"bids\":[{\"price\":\"1.21511\",\"liquidity\":10000000}],\"asks\":[{\"price\":\"1.21523\",\"liquidity\":10000000}],\"closeoutBid\":\"1.21511\",\"closeoutAsk\":\"1.21523\",\"status\":\"tradeable\",\"tradeable\":true,\"instrument\":\"EUR_USD\"}'\n",
            "b'{\"type\":\"PRICE\",\"time\":\"2021-01-14T11:58:47.227943735Z\",\"bids\":[{\"price\":\"1.21511\",\"liquidity\":10000000}],\"asks\":[{\"price\":\"1.21523\",\"liquidity\":10000000}],\"closeoutBid\":\"1.21511\",\"closeoutAsk\":\"1.21523\",\"status\":\"tradeable\",\"tradeable\":true,\"instrument\":\"EUR_USD\"}'\n",
            "b'{\"type\":\"PRICE\",\"time\":\"2021-01-14T11:58:47.557075234Z\",\"bids\":[{\"price\":\"1.21511\",\"liquidity\":10000000}],\"asks\":[{\"price\":\"1.21523\",\"liquidity\":10000000}],\"closeoutBid\":\"1.21511\",\"closeoutAsk\":\"1.21523\",\"status\":\"tradeable\",\"tradeable\":true,\"instrument\":\"EUR_USD\"}'\n",
            "b'{\"type\":\"PRICE\",\"time\":\"2021-01-14T11:58:48.316857911Z\",\"bids\":[{\"price\":\"1.21510\",\"liquidity\":10000000}],\"asks\":[{\"price\":\"1.21522\",\"liquidity\":10000000}],\"closeoutBid\":\"1.21510\",\"closeoutAsk\":\"1.21522\",\"status\":\"tradeable\",\"tradeable\":true,\"instrument\":\"EUR_USD\"}'\n",
            "b'{\"type\":\"HEARTBEAT\",\"time\":\"2021-01-14T11:58:49.163779172Z\"}'\n",
            "b'{\"type\":\"PRICE\",\"time\":\"2021-01-14T11:58:49.912325759Z\",\"bids\":[{\"price\":\"1.21511\",\"liquidity\":10000000}],\"asks\":[{\"price\":\"1.21523\",\"liquidity\":10000000}],\"closeoutBid\":\"1.21511\",\"closeoutAsk\":\"1.21523\",\"status\":\"tradeable\",\"tradeable\":true,\"instrument\":\"EUR_USD\"}'\n",
            "b'{\"type\":\"HEARTBEAT\",\"time\":\"2021-01-14T11:58:54.164202343Z\"}'\n",
            "b'{\"type\":\"PRICE\",\"time\":\"2021-01-14T11:58:55.908496355Z\",\"bids\":[{\"price\":\"1.21514\",\"liquidity\":10000000}],\"asks\":[{\"price\":\"1.21529\",\"liquidity\":10000000}],\"closeoutBid\":\"1.21514\",\"closeoutAsk\":\"1.21529\",\"status\":\"tradeable\",\"tradeable\":true,\"instrument\":\"EUR_USD\"}'\n",
            "b'{\"type\":\"PRICE\",\"time\":\"2021-01-14T11:58:56.297199701Z\",\"bids\":[{\"price\":\"1.21518\",\"liquidity\":10000000}],\"asks\":[{\"price\":\"1.21529\",\"liquidity\":10000000}],\"closeoutBid\":\"1.21518\",\"closeoutAsk\":\"1.21529\",\"status\":\"tradeable\",\"tradeable\":true,\"instrument\":\"EUR_USD\"}'\n",
            "b'{\"type\":\"PRICE\",\"time\":\"2021-01-14T11:58:57.127594807Z\",\"bids\":[{\"price\":\"1.21516\",\"liquidity\":10000000}],\"asks\":[{\"price\":\"1.21532\",\"liquidity\":10000000}],\"closeoutBid\":\"1.21516\",\"closeoutAsk\":\"1.21532\",\"status\":\"tradeable\",\"tradeable\":true,\"instrument\":\"EUR_USD\"}'\n",
            "b'{\"type\":\"PRICE\",\"time\":\"2021-01-14T11:58:57.776743544Z\",\"bids\":[{\"price\":\"1.21518\",\"liquidity\":10000000}],\"asks\":[{\"price\":\"1.21530\",\"liquidity\":10000000}],\"closeoutBid\":\"1.21518\",\"closeoutAsk\":\"1.21530\",\"status\":\"tradeable\",\"tradeable\":true,\"instrument\":\"EUR_USD\"}'\n",
            "b'{\"type\":\"PRICE\",\"time\":\"2021-01-14T11:58:58.016464527Z\",\"bids\":[{\"price\":\"1.21518\",\"liquidity\":10000000}],\"asks\":[{\"price\":\"1.21533\",\"liquidity\":10000000}],\"closeoutBid\":\"1.21518\",\"closeoutAsk\":\"1.21533\",\"status\":\"tradeable\",\"tradeable\":true,\"instrument\":\"EUR_USD\"}'\n",
            "b'{\"type\":\"PRICE\",\"time\":\"2021-01-14T11:58:58.725805802Z\",\"bids\":[{\"price\":\"1.21516\",\"liquidity\":10000000}],\"asks\":[{\"price\":\"1.21529\",\"liquidity\":10000000}],\"closeoutBid\":\"1.21516\",\"closeoutAsk\":\"1.21529\",\"status\":\"tradeable\",\"tradeable\":true,\"instrument\":\"EUR_USD\"}'\n",
            "b'{\"type\":\"PRICE\",\"time\":\"2021-01-14T11:58:58.772325503Z\",\"bids\":[{\"price\":\"1.21515\",\"liquidity\":10000000}],\"asks\":[{\"price\":\"1.21528\",\"liquidity\":10000000}],\"closeoutBid\":\"1.21515\",\"closeoutAsk\":\"1.21528\",\"status\":\"tradeable\",\"tradeable\":true,\"instrument\":\"EUR_USD\"}'\n",
            "b'{\"type\":\"HEARTBEAT\",\"time\":\"2021-01-14T11:58:59.164792986Z\"}'\n",
            "b'{\"type\":\"PRICE\",\"time\":\"2021-01-14T11:59:01.574670909Z\",\"bids\":[{\"price\":\"1.21517\",\"liquidity\":10000000}],\"asks\":[{\"price\":\"1.21528\",\"liquidity\":10000000}],\"closeoutBid\":\"1.21517\",\"closeoutAsk\":\"1.21528\",\"status\":\"tradeable\",\"tradeable\":true,\"instrument\":\"EUR_USD\"}'\n",
            "b'{\"type\":\"HEARTBEAT\",\"time\":\"2021-01-14T11:59:04.165095885Z\"}'\n",
            "b'{\"type\":\"PRICE\",\"time\":\"2021-01-14T11:59:08.381264218Z\",\"bids\":[{\"price\":\"1.21518\",\"liquidity\":10000000}],\"asks\":[{\"price\":\"1.21531\",\"liquidity\":10000000}],\"closeoutBid\":\"1.21518\",\"closeoutAsk\":\"1.21531\",\"status\":\"tradeable\",\"tradeable\":true,\"instrument\":\"EUR_USD\"}'\n",
            "b'{\"type\":\"PRICE\",\"time\":\"2021-01-14T11:59:08.943872446Z\",\"bids\":[{\"price\":\"1.21517\",\"liquidity\":10000000}],\"asks\":[{\"price\":\"1.21529\",\"liquidity\":10000000}],\"closeoutBid\":\"1.21517\",\"closeoutAsk\":\"1.21529\",\"status\":\"tradeable\",\"tradeable\":true,\"instrument\":\"EUR_USD\"}'\n",
            "b'{\"type\":\"HEARTBEAT\",\"time\":\"2021-01-14T11:59:09.167762656Z\"}'\n",
            "b'{\"type\":\"PRICE\",\"time\":\"2021-01-14T11:59:09.103825693Z\",\"bids\":[{\"price\":\"1.21517\",\"liquidity\":10000000}],\"asks\":[{\"price\":\"1.21529\",\"liquidity\":10000000}],\"closeoutBid\":\"1.21517\",\"closeoutAsk\":\"1.21529\",\"status\":\"tradeable\",\"tradeable\":true,\"instrument\":\"EUR_USD\"}'\n",
            "b'{\"type\":\"PRICE\",\"time\":\"2021-01-14T11:59:10.102355123Z\",\"bids\":[{\"price\":\"1.21518\",\"liquidity\":10000000}],\"asks\":[{\"price\":\"1.21530\",\"liquidity\":10000000}],\"closeoutBid\":\"1.21518\",\"closeoutAsk\":\"1.21530\",\"status\":\"tradeable\",\"tradeable\":true,\"instrument\":\"EUR_USD\"}'\n",
            "b'{\"type\":\"PRICE\",\"time\":\"2021-01-14T11:59:11.127019193Z\",\"bids\":[{\"price\":\"1.21515\",\"liquidity\":10000000}],\"asks\":[{\"price\":\"1.21527\",\"liquidity\":10000000}],\"closeoutBid\":\"1.21515\",\"closeoutAsk\":\"1.21527\",\"status\":\"tradeable\",\"tradeable\":true,\"instrument\":\"EUR_USD\"}'\n",
            "b'{\"type\":\"PRICE\",\"time\":\"2021-01-14T11:59:11.422375253Z\",\"bids\":[{\"price\":\"1.21517\",\"liquidity\":10000000}],\"asks\":[{\"price\":\"1.21530\",\"liquidity\":10000000}],\"closeoutBid\":\"1.21517\",\"closeoutAsk\":\"1.21530\",\"status\":\"tradeable\",\"tradeable\":true,\"instrument\":\"EUR_USD\"}'\n",
            "b'{\"type\":\"PRICE\",\"time\":\"2021-01-14T11:59:13.153996976Z\",\"bids\":[{\"price\":\"1.21517\",\"liquidity\":10000000}],\"asks\":[{\"price\":\"1.21528\",\"liquidity\":10000000}],\"closeoutBid\":\"1.21517\",\"closeoutAsk\":\"1.21528\",\"status\":\"tradeable\",\"tradeable\":true,\"instrument\":\"EUR_USD\"}'\n"
          ],
          "name": "stdout"
        },
        {
          "output_type": "error",
          "ename": "KeyboardInterrupt",
          "evalue": "ignored",
          "traceback": [
            "\u001b[0;31m---------------------------------------------------------------------------\u001b[0m",
            "\u001b[0;31mKeyboardInterrupt\u001b[0m                         Traceback (most recent call last)",
            "\u001b[0;32m<ipython-input-73-df653f0cc668>\u001b[0m in \u001b[0;36m<module>\u001b[0;34m()\u001b[0m\n\u001b[0;32m----> 1\u001b[0;31m \u001b[0;32mfor\u001b[0m \u001b[0mprice_data\u001b[0m \u001b[0;32min\u001b[0m \u001b[0mresponse\u001b[0m\u001b[0;34m.\u001b[0m\u001b[0mlines\u001b[0m\u001b[0;34m:\u001b[0m\u001b[0;34m\u001b[0m\u001b[0;34m\u001b[0m\u001b[0m\n\u001b[0m\u001b[1;32m      2\u001b[0m     \u001b[0mprint\u001b[0m\u001b[0;34m(\u001b[0m\u001b[0mprice_data\u001b[0m\u001b[0;34m)\u001b[0m\u001b[0;34m\u001b[0m\u001b[0;34m\u001b[0m\u001b[0m\n",
            "\u001b[0;32m/usr/local/lib/python3.6/dist-packages/requests/models.py\u001b[0m in \u001b[0;36miter_lines\u001b[0;34m(self, chunk_size, decode_unicode, delimiter)\u001b[0m\n\u001b[1;32m    793\u001b[0m         \u001b[0mpending\u001b[0m \u001b[0;34m=\u001b[0m \u001b[0;32mNone\u001b[0m\u001b[0;34m\u001b[0m\u001b[0;34m\u001b[0m\u001b[0m\n\u001b[1;32m    794\u001b[0m \u001b[0;34m\u001b[0m\u001b[0m\n\u001b[0;32m--> 795\u001b[0;31m         \u001b[0;32mfor\u001b[0m \u001b[0mchunk\u001b[0m \u001b[0;32min\u001b[0m \u001b[0mself\u001b[0m\u001b[0;34m.\u001b[0m\u001b[0miter_content\u001b[0m\u001b[0;34m(\u001b[0m\u001b[0mchunk_size\u001b[0m\u001b[0;34m=\u001b[0m\u001b[0mchunk_size\u001b[0m\u001b[0;34m,\u001b[0m \u001b[0mdecode_unicode\u001b[0m\u001b[0;34m=\u001b[0m\u001b[0mdecode_unicode\u001b[0m\u001b[0;34m)\u001b[0m\u001b[0;34m:\u001b[0m\u001b[0;34m\u001b[0m\u001b[0;34m\u001b[0m\u001b[0m\n\u001b[0m\u001b[1;32m    796\u001b[0m \u001b[0;34m\u001b[0m\u001b[0m\n\u001b[1;32m    797\u001b[0m             \u001b[0;32mif\u001b[0m \u001b[0mpending\u001b[0m \u001b[0;32mis\u001b[0m \u001b[0;32mnot\u001b[0m \u001b[0;32mNone\u001b[0m\u001b[0;34m:\u001b[0m\u001b[0;34m\u001b[0m\u001b[0;34m\u001b[0m\u001b[0m\n",
            "\u001b[0;32m/usr/local/lib/python3.6/dist-packages/requests/models.py\u001b[0m in \u001b[0;36mgenerate\u001b[0;34m()\u001b[0m\n\u001b[1;32m    749\u001b[0m             \u001b[0;32mif\u001b[0m \u001b[0mhasattr\u001b[0m\u001b[0;34m(\u001b[0m\u001b[0mself\u001b[0m\u001b[0;34m.\u001b[0m\u001b[0mraw\u001b[0m\u001b[0;34m,\u001b[0m \u001b[0;34m'stream'\u001b[0m\u001b[0;34m)\u001b[0m\u001b[0;34m:\u001b[0m\u001b[0;34m\u001b[0m\u001b[0;34m\u001b[0m\u001b[0m\n\u001b[1;32m    750\u001b[0m                 \u001b[0;32mtry\u001b[0m\u001b[0;34m:\u001b[0m\u001b[0;34m\u001b[0m\u001b[0;34m\u001b[0m\u001b[0m\n\u001b[0;32m--> 751\u001b[0;31m                     \u001b[0;32mfor\u001b[0m \u001b[0mchunk\u001b[0m \u001b[0;32min\u001b[0m \u001b[0mself\u001b[0m\u001b[0;34m.\u001b[0m\u001b[0mraw\u001b[0m\u001b[0;34m.\u001b[0m\u001b[0mstream\u001b[0m\u001b[0;34m(\u001b[0m\u001b[0mchunk_size\u001b[0m\u001b[0;34m,\u001b[0m \u001b[0mdecode_content\u001b[0m\u001b[0;34m=\u001b[0m\u001b[0;32mTrue\u001b[0m\u001b[0;34m)\u001b[0m\u001b[0;34m:\u001b[0m\u001b[0;34m\u001b[0m\u001b[0;34m\u001b[0m\u001b[0m\n\u001b[0m\u001b[1;32m    752\u001b[0m                         \u001b[0;32myield\u001b[0m \u001b[0mchunk\u001b[0m\u001b[0;34m\u001b[0m\u001b[0;34m\u001b[0m\u001b[0m\n\u001b[1;32m    753\u001b[0m                 \u001b[0;32mexcept\u001b[0m \u001b[0mProtocolError\u001b[0m \u001b[0;32mas\u001b[0m \u001b[0me\u001b[0m\u001b[0;34m:\u001b[0m\u001b[0;34m\u001b[0m\u001b[0;34m\u001b[0m\u001b[0m\n",
            "\u001b[0;32m/usr/local/lib/python3.6/dist-packages/urllib3/response.py\u001b[0m in \u001b[0;36mstream\u001b[0;34m(self, amt, decode_content)\u001b[0m\n\u001b[1;32m    490\u001b[0m         \"\"\"\n\u001b[1;32m    491\u001b[0m         \u001b[0;32mif\u001b[0m \u001b[0mself\u001b[0m\u001b[0;34m.\u001b[0m\u001b[0mchunked\u001b[0m \u001b[0;32mand\u001b[0m \u001b[0mself\u001b[0m\u001b[0;34m.\u001b[0m\u001b[0msupports_chunked_reads\u001b[0m\u001b[0;34m(\u001b[0m\u001b[0;34m)\u001b[0m\u001b[0;34m:\u001b[0m\u001b[0;34m\u001b[0m\u001b[0;34m\u001b[0m\u001b[0m\n\u001b[0;32m--> 492\u001b[0;31m             \u001b[0;32mfor\u001b[0m \u001b[0mline\u001b[0m \u001b[0;32min\u001b[0m \u001b[0mself\u001b[0m\u001b[0;34m.\u001b[0m\u001b[0mread_chunked\u001b[0m\u001b[0;34m(\u001b[0m\u001b[0mamt\u001b[0m\u001b[0;34m,\u001b[0m \u001b[0mdecode_content\u001b[0m\u001b[0;34m=\u001b[0m\u001b[0mdecode_content\u001b[0m\u001b[0;34m)\u001b[0m\u001b[0;34m:\u001b[0m\u001b[0;34m\u001b[0m\u001b[0;34m\u001b[0m\u001b[0m\n\u001b[0m\u001b[1;32m    493\u001b[0m                 \u001b[0;32myield\u001b[0m \u001b[0mline\u001b[0m\u001b[0;34m\u001b[0m\u001b[0;34m\u001b[0m\u001b[0m\n\u001b[1;32m    494\u001b[0m         \u001b[0;32melse\u001b[0m\u001b[0;34m:\u001b[0m\u001b[0;34m\u001b[0m\u001b[0;34m\u001b[0m\u001b[0m\n",
            "\u001b[0;32m/usr/local/lib/python3.6/dist-packages/urllib3/response.py\u001b[0m in \u001b[0;36mread_chunked\u001b[0;34m(self, amt, decode_content)\u001b[0m\n\u001b[1;32m    666\u001b[0m \u001b[0;34m\u001b[0m\u001b[0m\n\u001b[1;32m    667\u001b[0m             \u001b[0;32mwhile\u001b[0m \u001b[0;32mTrue\u001b[0m\u001b[0;34m:\u001b[0m\u001b[0;34m\u001b[0m\u001b[0;34m\u001b[0m\u001b[0m\n\u001b[0;32m--> 668\u001b[0;31m                 \u001b[0mself\u001b[0m\u001b[0;34m.\u001b[0m\u001b[0m_update_chunk_length\u001b[0m\u001b[0;34m(\u001b[0m\u001b[0;34m)\u001b[0m\u001b[0;34m\u001b[0m\u001b[0;34m\u001b[0m\u001b[0m\n\u001b[0m\u001b[1;32m    669\u001b[0m                 \u001b[0;32mif\u001b[0m \u001b[0mself\u001b[0m\u001b[0;34m.\u001b[0m\u001b[0mchunk_left\u001b[0m \u001b[0;34m==\u001b[0m \u001b[0;36m0\u001b[0m\u001b[0;34m:\u001b[0m\u001b[0;34m\u001b[0m\u001b[0;34m\u001b[0m\u001b[0m\n\u001b[1;32m    670\u001b[0m                     \u001b[0;32mbreak\u001b[0m\u001b[0;34m\u001b[0m\u001b[0;34m\u001b[0m\u001b[0m\n",
            "\u001b[0;32m/usr/local/lib/python3.6/dist-packages/urllib3/response.py\u001b[0m in \u001b[0;36m_update_chunk_length\u001b[0;34m(self)\u001b[0m\n\u001b[1;32m    598\u001b[0m         \u001b[0;32mif\u001b[0m \u001b[0mself\u001b[0m\u001b[0;34m.\u001b[0m\u001b[0mchunk_left\u001b[0m \u001b[0;32mis\u001b[0m \u001b[0;32mnot\u001b[0m \u001b[0;32mNone\u001b[0m\u001b[0;34m:\u001b[0m\u001b[0;34m\u001b[0m\u001b[0;34m\u001b[0m\u001b[0m\n\u001b[1;32m    599\u001b[0m             \u001b[0;32mreturn\u001b[0m\u001b[0;34m\u001b[0m\u001b[0;34m\u001b[0m\u001b[0m\n\u001b[0;32m--> 600\u001b[0;31m         \u001b[0mline\u001b[0m \u001b[0;34m=\u001b[0m \u001b[0mself\u001b[0m\u001b[0;34m.\u001b[0m\u001b[0m_fp\u001b[0m\u001b[0;34m.\u001b[0m\u001b[0mfp\u001b[0m\u001b[0;34m.\u001b[0m\u001b[0mreadline\u001b[0m\u001b[0;34m(\u001b[0m\u001b[0;34m)\u001b[0m\u001b[0;34m\u001b[0m\u001b[0;34m\u001b[0m\u001b[0m\n\u001b[0m\u001b[1;32m    601\u001b[0m         \u001b[0mline\u001b[0m \u001b[0;34m=\u001b[0m \u001b[0mline\u001b[0m\u001b[0;34m.\u001b[0m\u001b[0msplit\u001b[0m\u001b[0;34m(\u001b[0m\u001b[0;34mb';'\u001b[0m\u001b[0;34m,\u001b[0m \u001b[0;36m1\u001b[0m\u001b[0;34m)\u001b[0m\u001b[0;34m[\u001b[0m\u001b[0;36m0\u001b[0m\u001b[0;34m]\u001b[0m\u001b[0;34m\u001b[0m\u001b[0;34m\u001b[0m\u001b[0m\n\u001b[1;32m    602\u001b[0m         \u001b[0;32mtry\u001b[0m\u001b[0;34m:\u001b[0m\u001b[0;34m\u001b[0m\u001b[0;34m\u001b[0m\u001b[0m\n",
            "\u001b[0;32m/usr/lib/python3.6/socket.py\u001b[0m in \u001b[0;36mreadinto\u001b[0;34m(self, b)\u001b[0m\n\u001b[1;32m    584\u001b[0m         \u001b[0;32mwhile\u001b[0m \u001b[0;32mTrue\u001b[0m\u001b[0;34m:\u001b[0m\u001b[0;34m\u001b[0m\u001b[0;34m\u001b[0m\u001b[0m\n\u001b[1;32m    585\u001b[0m             \u001b[0;32mtry\u001b[0m\u001b[0;34m:\u001b[0m\u001b[0;34m\u001b[0m\u001b[0;34m\u001b[0m\u001b[0m\n\u001b[0;32m--> 586\u001b[0;31m                 \u001b[0;32mreturn\u001b[0m \u001b[0mself\u001b[0m\u001b[0;34m.\u001b[0m\u001b[0m_sock\u001b[0m\u001b[0;34m.\u001b[0m\u001b[0mrecv_into\u001b[0m\u001b[0;34m(\u001b[0m\u001b[0mb\u001b[0m\u001b[0;34m)\u001b[0m\u001b[0;34m\u001b[0m\u001b[0;34m\u001b[0m\u001b[0m\n\u001b[0m\u001b[1;32m    587\u001b[0m             \u001b[0;32mexcept\u001b[0m \u001b[0mtimeout\u001b[0m\u001b[0;34m:\u001b[0m\u001b[0;34m\u001b[0m\u001b[0;34m\u001b[0m\u001b[0m\n\u001b[1;32m    588\u001b[0m                 \u001b[0mself\u001b[0m\u001b[0;34m.\u001b[0m\u001b[0m_timeout_occurred\u001b[0m \u001b[0;34m=\u001b[0m \u001b[0;32mTrue\u001b[0m\u001b[0;34m\u001b[0m\u001b[0;34m\u001b[0m\u001b[0m\n",
            "\u001b[0;32m/usr/lib/python3.6/ssl.py\u001b[0m in \u001b[0;36mrecv_into\u001b[0;34m(self, buffer, nbytes, flags)\u001b[0m\n\u001b[1;32m   1010\u001b[0m                   \u001b[0;34m\"non-zero flags not allowed in calls to recv_into() on %s\"\u001b[0m \u001b[0;34m%\u001b[0m\u001b[0;34m\u001b[0m\u001b[0;34m\u001b[0m\u001b[0m\n\u001b[1;32m   1011\u001b[0m                   self.__class__)\n\u001b[0;32m-> 1012\u001b[0;31m             \u001b[0;32mreturn\u001b[0m \u001b[0mself\u001b[0m\u001b[0;34m.\u001b[0m\u001b[0mread\u001b[0m\u001b[0;34m(\u001b[0m\u001b[0mnbytes\u001b[0m\u001b[0;34m,\u001b[0m \u001b[0mbuffer\u001b[0m\u001b[0;34m)\u001b[0m\u001b[0;34m\u001b[0m\u001b[0;34m\u001b[0m\u001b[0m\n\u001b[0m\u001b[1;32m   1013\u001b[0m         \u001b[0;32melse\u001b[0m\u001b[0;34m:\u001b[0m\u001b[0;34m\u001b[0m\u001b[0;34m\u001b[0m\u001b[0m\n\u001b[1;32m   1014\u001b[0m             \u001b[0;32mreturn\u001b[0m \u001b[0msocket\u001b[0m\u001b[0;34m.\u001b[0m\u001b[0mrecv_into\u001b[0m\u001b[0;34m(\u001b[0m\u001b[0mself\u001b[0m\u001b[0;34m,\u001b[0m \u001b[0mbuffer\u001b[0m\u001b[0;34m,\u001b[0m \u001b[0mnbytes\u001b[0m\u001b[0;34m,\u001b[0m \u001b[0mflags\u001b[0m\u001b[0;34m)\u001b[0m\u001b[0;34m\u001b[0m\u001b[0;34m\u001b[0m\u001b[0m\n",
            "\u001b[0;32m/usr/lib/python3.6/ssl.py\u001b[0m in \u001b[0;36mread\u001b[0;34m(self, len, buffer)\u001b[0m\n\u001b[1;32m    872\u001b[0m             \u001b[0;32mraise\u001b[0m \u001b[0mValueError\u001b[0m\u001b[0;34m(\u001b[0m\u001b[0;34m\"Read on closed or unwrapped SSL socket.\"\u001b[0m\u001b[0;34m)\u001b[0m\u001b[0;34m\u001b[0m\u001b[0;34m\u001b[0m\u001b[0m\n\u001b[1;32m    873\u001b[0m         \u001b[0;32mtry\u001b[0m\u001b[0;34m:\u001b[0m\u001b[0;34m\u001b[0m\u001b[0;34m\u001b[0m\u001b[0m\n\u001b[0;32m--> 874\u001b[0;31m             \u001b[0;32mreturn\u001b[0m \u001b[0mself\u001b[0m\u001b[0;34m.\u001b[0m\u001b[0m_sslobj\u001b[0m\u001b[0;34m.\u001b[0m\u001b[0mread\u001b[0m\u001b[0;34m(\u001b[0m\u001b[0mlen\u001b[0m\u001b[0;34m,\u001b[0m \u001b[0mbuffer\u001b[0m\u001b[0;34m)\u001b[0m\u001b[0;34m\u001b[0m\u001b[0;34m\u001b[0m\u001b[0m\n\u001b[0m\u001b[1;32m    875\u001b[0m         \u001b[0;32mexcept\u001b[0m \u001b[0mSSLError\u001b[0m \u001b[0;32mas\u001b[0m \u001b[0mx\u001b[0m\u001b[0;34m:\u001b[0m\u001b[0;34m\u001b[0m\u001b[0;34m\u001b[0m\u001b[0m\n\u001b[1;32m    876\u001b[0m             \u001b[0;32mif\u001b[0m \u001b[0mx\u001b[0m\u001b[0;34m.\u001b[0m\u001b[0margs\u001b[0m\u001b[0;34m[\u001b[0m\u001b[0;36m0\u001b[0m\u001b[0;34m]\u001b[0m \u001b[0;34m==\u001b[0m \u001b[0mSSL_ERROR_EOF\u001b[0m \u001b[0;32mand\u001b[0m \u001b[0mself\u001b[0m\u001b[0;34m.\u001b[0m\u001b[0msuppress_ragged_eofs\u001b[0m\u001b[0;34m:\u001b[0m\u001b[0;34m\u001b[0m\u001b[0;34m\u001b[0m\u001b[0m\n",
            "\u001b[0;32m/usr/lib/python3.6/ssl.py\u001b[0m in \u001b[0;36mread\u001b[0;34m(self, len, buffer)\u001b[0m\n\u001b[1;32m    629\u001b[0m         \"\"\"\n\u001b[1;32m    630\u001b[0m         \u001b[0;32mif\u001b[0m \u001b[0mbuffer\u001b[0m \u001b[0;32mis\u001b[0m \u001b[0;32mnot\u001b[0m \u001b[0;32mNone\u001b[0m\u001b[0;34m:\u001b[0m\u001b[0;34m\u001b[0m\u001b[0;34m\u001b[0m\u001b[0m\n\u001b[0;32m--> 631\u001b[0;31m             \u001b[0mv\u001b[0m \u001b[0;34m=\u001b[0m \u001b[0mself\u001b[0m\u001b[0;34m.\u001b[0m\u001b[0m_sslobj\u001b[0m\u001b[0;34m.\u001b[0m\u001b[0mread\u001b[0m\u001b[0;34m(\u001b[0m\u001b[0mlen\u001b[0m\u001b[0;34m,\u001b[0m \u001b[0mbuffer\u001b[0m\u001b[0;34m)\u001b[0m\u001b[0;34m\u001b[0m\u001b[0;34m\u001b[0m\u001b[0m\n\u001b[0m\u001b[1;32m    632\u001b[0m         \u001b[0;32melse\u001b[0m\u001b[0;34m:\u001b[0m\u001b[0;34m\u001b[0m\u001b[0;34m\u001b[0m\u001b[0m\n\u001b[1;32m    633\u001b[0m             \u001b[0mv\u001b[0m \u001b[0;34m=\u001b[0m \u001b[0mself\u001b[0m\u001b[0;34m.\u001b[0m\u001b[0m_sslobj\u001b[0m\u001b[0;34m.\u001b[0m\u001b[0mread\u001b[0m\u001b[0;34m(\u001b[0m\u001b[0mlen\u001b[0m\u001b[0;34m)\u001b[0m\u001b[0;34m\u001b[0m\u001b[0;34m\u001b[0m\u001b[0m\n",
            "\u001b[0;31mKeyboardInterrupt\u001b[0m: "
          ]
        }
      ]
    }
  ]
}